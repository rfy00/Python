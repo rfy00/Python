{
 "cells": [
  {
   "cell_type": "code",
   "execution_count": 4,
   "metadata": {},
   "outputs": [
    {
     "name": "stdout",
     "output_type": "stream",
     "text": [
      "What would you like the file name to be that will show the overall length and count of each word: GettysburgResults\n"
     ]
    }
   ],
   "source": [
    "# Desc: This program pulls data from a text file and prints the number of times\n",
    "#       each word appears into a new file\n",
    "# Usage: The program loops the text file and calls various functions to provide\n",
    "#        the count of words that appear in a new text file\n",
    "\n",
    "\n",
    "def main():\n",
    "    import os\n",
    "\n",
    "    # User prompt naming convention file_name\n",
    "    file_name = input('What would you like the file name to be that will show the overall length and count of each word: ')\n",
    "\n",
    "    # Opens and reads the txt file\n",
    "    gba_file = open(os.path.expanduser(\"~/Desktop/Python/gettysburg.txt\"), 'r')\n",
    "\n",
    "    word_count_dict = {}\n",
    "\n",
    "    # Calls the various functions to process the text in the file\n",
    "    for line in gba_file:\n",
    "        process_line(line, word_count_dict)\n",
    "    process_file(file_name, word_count_dict)\n",
    "\n",
    "\n",
    "def process_line(line, word_count_dict):\n",
    "\n",
    "    import string\n",
    "\n",
    "    line = line.strip()\n",
    "    word_list = line.split()\n",
    "\n",
    "    punctuations = \"!\"#$%&'()*+,-./:;<=>?@[\\]^_`{|}~\"\n",
    "\n",
    "    for word in word_list:\n",
    "        # Excludes punctuation that is defined in the variable\n",
    "        exclude = set(string.punctuation)\n",
    "        word = ''.join(ch for ch in word if ch not in exclude)\n",
    "\n",
    "        add_word(word, word_count_dict)    # Calls the add_word function\n",
    "\n",
    "\n",
    "def add_word(word, word_count_dict):\n",
    "\n",
    "    word = str.lower(word)\n",
    "\n",
    "    # Adds the word count to a word already added or adds the word to the word_count_dict\n",
    "    if word in word_count_dict:\n",
    "        word_count_dict[word] += 1\n",
    "    elif word != '':\n",
    "        word_count_dict[word] = 1\n",
    "\n",
    "def process_file(file_name, word_count_dict):\n",
    "    import os\n",
    "\n",
    "    tup1 = list()\n",
    "\n",
    "    # Opens and writes to a new file\n",
    "    with open(os.path.expanduser((file_name) + '.txt'), 'w') as output_f:\n",
    "\n",
    "        # Prints heading to the new file\n",
    "        output_f.write('Welcome!\\n')\n",
    "        output_f.write('This program pulls data from a text file and prints\\n')\n",
    "        output_f.write('the number of times each word appears into a new file.\\n\\n')\n",
    "        output_f.write('Length of dictionary ')\n",
    "        output_f.write(str(len(word_count_dict)))\n",
    "        output_f.write('\\n\\n{:18s}{:11s}'.format('Word', 'Count'))\n",
    "        output_f.write('\\n-----------------------\\n')\n",
    "\n",
    "        # Breaks the word_count_dict into two separate lines\n",
    "        for key, val in word_count_dict.items():\n",
    "            tup1.append((val, key))\n",
    "\n",
    "        # Sorts the list in reverse order\n",
    "        tup1.sort(reverse=True)\n",
    "\n",
    "        # Formats the two columns so they are in straight lines\n",
    "        for key, val in tup1[:] :\n",
    "            output_f.write(\"{0:<11} {1:^16}\".format(val, key))\n",
    "            output_f.write(\"\\n\")\n",
    "    output_f.close()\n",
    "\n",
    "if __name__== \"__main__\":\n",
    "\n",
    "    main()   # Calls the main() function"
   ]
  },
  {
   "cell_type": "code",
   "execution_count": null,
   "metadata": {},
   "outputs": [],
   "source": []
  },
  {
   "cell_type": "code",
   "execution_count": null,
   "metadata": {},
   "outputs": [],
   "source": []
  }
 ],
 "metadata": {
  "kernelspec": {
   "display_name": "Python 3",
   "language": "python",
   "name": "python3"
  },
  "language_info": {
   "codemirror_mode": {
    "name": "ipython",
    "version": 3
   },
   "file_extension": ".py",
   "mimetype": "text/x-python",
   "name": "python",
   "nbconvert_exporter": "python",
   "pygments_lexer": "ipython3",
   "version": "3.8.5"
  }
 },
 "nbformat": 4,
 "nbformat_minor": 4
}
