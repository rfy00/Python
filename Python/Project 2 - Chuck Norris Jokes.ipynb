{
 "cells": [
  {
   "cell_type": "code",
   "execution_count": 4,
   "metadata": {},
   "outputs": [
    {
     "name": "stdout",
     "output_type": "stream",
     "text": [
      "Welcome!\n",
      "\n",
      "This program uses the Chuck Norris Random Joke API and\n",
      "prints out a joke when a user enters in a Y in the input field\n",
      "\n",
      "Would you like a new Chuck Norris Joke (Type in Y or N): Y\n",
      "\n",
      "Joke: \n",
      "Chuck Norris drinks Texas tea.\n",
      "\n",
      "Would you like a new Chuck Norris Joke: Y\n",
      "\n",
      "Joke: \n",
      "Chuck Norris created ninjas.\n",
      "\n",
      "Would you like a new Chuck Norris Joke: Y\n",
      "\n",
      "Joke: \n",
      "Charlie Sheen is Chuck Norris' lovechild.\n",
      "\n",
      "Would you like a new Chuck Norris Joke: N\n",
      "\n",
      "End of Program!\n"
     ]
    }
   ],
   "source": [
    "# Desc: This program pulls data from an Chuck Norris Random Jokes API and prints\n",
    "#       the \"Value\" using JSON\n",
    "# Usage: The program asks a user if they would like to see a new Chuck Norris Joke\n",
    "#        and pulls in the the \"Value\" of an API using JSON until the user ends the program\n",
    "\n",
    "import requests\n",
    "import json\n",
    "from colorama import init\n",
    "from termcolor import colored\n",
    "\n",
    "init()\n",
    "\n",
    "url = 'https://api.chucknorris.io/jokes/random'\n",
    "\n",
    "# Prints heading to the new file\n",
    "print('\\033[1m' + 'Welcome!\\n' + '\\033[0m')\n",
    "print('This program uses the Chuck Norris Random Joke API and')\n",
    "print('prints out a joke when a user enters in a Y in the input field\\n')\n",
    "\n",
    "user_input = input('\\033[1m' + 'Would you like a new Chuck Norris Joke (Type in Y or N): ' + '\\033[0m')\n",
    "\n",
    "#Uses a while loop until conditions are not met\n",
    "while user_input.upper() == 'Y':\n",
    "    if user_input.upper() == 'Y':\n",
    "\n",
    "        response = requests.get(url)\n",
    "        data = response.json()\n",
    "\n",
    "        print('\\n\\033[1m' + 'Joke: ' + '\\033[0m')\n",
    "        print(colored(data['value'], 'magenta'))\n",
    "        user_input = input('\\033[1m' + '\\nWould you like a new Chuck Norris Joke: ' + '\\033[0m')\n",
    "\n",
    "else:\n",
    "    print('\\033[1m' + '\\nEnd of Program!' + '\\033[0m')\n"
   ]
  },
  {
   "cell_type": "code",
   "execution_count": null,
   "metadata": {},
   "outputs": [],
   "source": []
  },
  {
   "cell_type": "code",
   "execution_count": null,
   "metadata": {},
   "outputs": [],
   "source": []
  }
 ],
 "metadata": {
  "kernelspec": {
   "display_name": "Python 3",
   "language": "python",
   "name": "python3"
  },
  "language_info": {
   "codemirror_mode": {
    "name": "ipython",
    "version": 3
   },
   "file_extension": ".py",
   "mimetype": "text/x-python",
   "name": "python",
   "nbconvert_exporter": "python",
   "pygments_lexer": "ipython3",
   "version": "3.8.5"
  }
 },
 "nbformat": 4,
 "nbformat_minor": 4
}
